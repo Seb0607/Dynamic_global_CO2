{
 "cells": [
  {
   "cell_type": "markdown",
   "metadata": {},
   "source": [
    "In this app, we let the estimated GDP-CO2 relationship vary over time by including time as an additional input into the neural network. "
   ]
  },
  {
   "cell_type": "code",
   "execution_count": 67,
   "metadata": {},
   "outputs": [],
   "source": [
    "%matplotlib widget\n",
    "\n",
    "import pandas as pd\n",
    "import numpy as np\n",
    "import tensorflow as tf\n",
    "\n",
    "from matplotlib import pyplot as plt\n",
    "from mpl_toolkits.mplot3d import Axes3D\n",
    "from matplotlib import cm\n",
    "import seaborn as sns; sns.set()\n",
    "\n",
    "from ipywidgets import interact, fixed\n",
    "import ipywidgets as widgets"
   ]
  },
  {
   "cell_type": "code",
   "execution_count": 68,
   "metadata": {},
   "outputs": [],
   "source": [
    "# Creating plotting function\n",
    "def SurfPlot(region, loss, architecture):\n",
    "    \"\"\"\n",
    "    Makes 3D surface plot for a given region in a given year.\n",
    "\n",
    "    ARGUMENTS\n",
    "        * region:       Must be from the list: 'World', 'OECD', 'Asia', 'REF', 'MAF', 'LAM'.\n",
    "        * loss:         Must be from the list: 'MSE', 'MAE'\n",
    "        * architecture: Must be from the list: (4), (8), (16), (8,4), (16,8,4) \n",
    "    \"\"\"\n",
    "    \n",
    "    # Loading miscellaneous data\n",
    "    time = np.load('Models/{}/Misc/time.npy'.format(region), allow_pickle=True)\n",
    "    T    = np.load('Models/{}/Misc/T.npy'.format(region), allow_pickle=True)\n",
    "    Min  = np.load('Models/{}/Misc/min.npy'.format(region), allow_pickle=True)\n",
    "    Max  = np.load('Models/{}/Misc/max.npy'.format(region), allow_pickle=True)\n",
    "\n",
    "    # Loading prediction model\n",
    "    model_pred = tf.keras.models.load_model('Models/{}/{}/{}/model_pred'.format(region, loss, architecture))\n",
    "\n",
    "    # PLotting\n",
    "    ax1      = time - 1959\n",
    "    ax2      = np.linspace(Min, Max, 1000)\n",
    "\n",
    "    ax1, ax2 = np.meshgrid(ax1, ax2)\n",
    "\n",
    "    ax1_vec  = np.reshape(ax1, (-1,1), order='F')\n",
    "    ax2_vec  = np.reshape(ax2, (-1,1), order='F')\n",
    "    \n",
    "    x_input  = np.hstack((ax1_vec, ax2_vec))\n",
    "\n",
    "    pred     = model_pred(x_input)\n",
    "    pred     = np.reshape(np.array(pred), (1000, T), order='F')\n",
    "\n",
    "    plt.close(None)\n",
    "    fig  = plt.figure(figsize=[4.5,3])\n",
    "    ax   = fig.gca(projection='3d')\n",
    "    surf = ax.plot_surface(ax1 + 1959, ax2, pred, linewidth=0, antialiased=True)\n",
    "    ax.set_xlabel('year', fontweight='bold')\n",
    "    ax.set_ylabel('log(GDP)', fontweight='bold')\n",
    "    ax.set_zlabel('log(CO$_2$)', fontweight='bold')\n",
    "    ax.set_zlim(-3,5)\n",
    "    ax.view_init(36,-140)\n",
    "    plt.tight_layout(pad=0.4, w_pad=0.5, h_pad=1.0)\n",
    "    plt.show()\n",
    "    "
   ]
  },
  {
   "cell_type": "code",
   "execution_count": 69,
   "metadata": {},
   "outputs": [],
   "source": [
    "# Creating plotting function\n",
    "def AggPlot(region, loss, architecture):\n",
    "    \"\"\"\n",
    "    Makes aggregate predictions plot for a given region in a given year.\n",
    "\n",
    "    ARGUMENTS\n",
    "        * region:       Must be from the list: 'World', 'OECD', 'Asia', 'REF', 'MAF', 'LAM'.\n",
    "        * loss:         Must be from the list: 'MSE', 'MAE'\n",
    "        * architecture: Must be from the list: (4), (8), (16), (8,4), (16,8,4) \n",
    "    \"\"\"\n",
    "    \n",
    "    # Loading miscellaneous data\n",
    "    time        = np.load('Models/{}/Misc/time.npy'.format(region), allow_pickle=True)\n",
    "    y_train_agg = np.load('Models/{}/Misc/y_train_agg.npy'.format(region), allow_pickle=True)\n",
    "\n",
    "    # Loading specific data\n",
    "    in_sample_agg = pd.read_pickle('Models/{}/{}/{}/in_sample_agg'.format(region, loss, architecture))\n",
    "\n",
    "    # PLotting\n",
    "    axis = np.reshape(np.array(time), (-1,1), order='F')\n",
    "        \n",
    "    plt.close(None)\n",
    "    fig  = plt.figure(figsize=[4.5,3])\n",
    "    if region=='REF':\n",
    "        plt.plot(axis, in_sample_agg[5:], color='black', label='Model predictions')\n",
    "        plt.plot(axis, y_train_agg[5:], color='black', linestyle='dashdot', label='Historical emissions')\n",
    "    else:    \n",
    "        plt.plot(axis, in_sample_agg, color='black', label='Model predictions')\n",
    "        plt.plot(axis, y_train_agg, color='black', linestyle='dashdot', label='Historical emissions')\n",
    "    plt.ylabel('Mt CO$_2$', fontweight='bold')\n",
    "    plt.xlabel('year', fontweight='bold')\n",
    "    if region=='World':\n",
    "        plt.ylim(2000,45000)\n",
    "    elif region=='OECD':\n",
    "        plt.ylim(2000,15000)\n",
    "    elif region=='REF':\n",
    "        plt.ylim(0,4500)\n",
    "    elif region=='Asia':\n",
    "        plt.ylim(0,25000)\n",
    "    elif region=='MAF':\n",
    "        plt.ylim(0,4000)\n",
    "    elif region=='LAM':\n",
    "        plt.ylim(0,2000)    \n",
    "    plt.legend(loc='upper left', fancybox=True, shadow=True, fontsize='x-small')\n",
    "    plt.tight_layout(pad=0.4, w_pad=0.5, h_pad=1.0)\n",
    "    plt.show()"
   ]
  },
  {
   "cell_type": "markdown",
   "metadata": {},
   "source": [
    "### Estimated Surface"
   ]
  },
  {
   "cell_type": "code",
   "execution_count": 70,
   "metadata": {},
   "outputs": [
    {
     "data": {
      "application/vnd.jupyter.widget-view+json": {
       "model_id": "a612f8dae2ad46f5927802a53ad89fb5",
       "version_major": 2,
       "version_minor": 0
      },
      "text/plain": [
       "interactive(children=(Dropdown(description='region', options=('World', 'OECD', 'REF', 'Asia', 'MAF', 'LAM'), v…"
      ]
     },
     "metadata": {},
     "output_type": "display_data"
    }
   ],
   "source": [
    "interact(SurfPlot, region=['World', 'OECD', 'REF', 'Asia', 'MAF', 'LAM'], loss=['MSE', 'MAE'], architecture=['(4)', '(8)', '(16)', '(8,4)', '(16,8,4)']);"
   ]
  },
  {
   "cell_type": "markdown",
   "metadata": {},
   "source": [
    "### Aggregate In-sample Predictions"
   ]
  },
  {
   "cell_type": "code",
   "execution_count": 71,
   "metadata": {},
   "outputs": [
    {
     "data": {
      "application/vnd.jupyter.widget-view+json": {
       "model_id": "efa595b91bc44694ac2be17cddcc3a3f",
       "version_major": 2,
       "version_minor": 0
      },
      "text/plain": [
       "interactive(children=(Dropdown(description='region', options=('World', 'OECD', 'REF', 'Asia', 'MAF', 'LAM'), v…"
      ]
     },
     "metadata": {},
     "output_type": "display_data"
    }
   ],
   "source": [
    "interact(AggPlot, region=['World', 'OECD', 'REF', 'Asia', 'MAF', 'LAM'], loss=['MSE', 'MAE'], architecture=['(4)', '(8)', '(16)', '(8,4)', '(16,8,4)']);"
   ]
  },
  {
   "cell_type": "code",
   "execution_count": 38,
   "metadata": {},
   "outputs": [],
   "source": [
    "#plt.close('all')"
   ]
  }
 ],
 "metadata": {
  "kernelspec": {
   "display_name": "Python 3",
   "language": "python",
   "name": "python3"
  },
  "language_info": {
   "codemirror_mode": {
    "name": "ipython",
    "version": 3
   },
   "file_extension": ".py",
   "mimetype": "text/x-python",
   "name": "python",
   "nbconvert_exporter": "python",
   "pygments_lexer": "ipython3",
   "version": "3.7.3"
  }
 },
 "nbformat": 4,
 "nbformat_minor": 4
}
